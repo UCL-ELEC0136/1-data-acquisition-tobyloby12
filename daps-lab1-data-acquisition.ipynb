{
 "cells": [
  {
   "cell_type": "markdown",
   "source": [
    "# Task 1: Small case scenario of dataset analysis"
   ],
   "metadata": {
    "id": "jenv-YgSElT1"
   }
  },
  {
   "cell_type": "markdown",
   "source": [
    "## 1.1 - Create a dataset (The Tate Collection)\n",
    "As a first example, we will create our own small dataset. In particular, the dataset will consist of 10 artists which are present in the Tate Collection along with the corresponding year of birth, year of death, biological gender and number of artworks.\n",
    "\n",
    "|          Name         | Gender |   Year_Birth  |   Year_Death  | N_works |\n",
    "|-----------------------|--------|---------------|---------------|---------|\n",
    "|     Beuys, Joseph     |  Male  |      1921\t |      1986     |   588   |\n",
    "|    Constable, John    |  Male  |      1776\t |      1837\t |   249   |\n",
    "|   Daniell, William    |  Male  |      1769\t |      1837\t |   612   |\n",
    "|   Forbes, Elizabeth   | Female |      1859\t |      1912\t |   120   |\n",
    "|     Flaxman, John     |  Male  |      1755\t |      1826\t |   287   |\n",
    "|    Phillips, Thomas   |  Male  |      1770\t |      1845\t |   274   |\n",
    "| Paolozzi, Sir Eduardo |  Male  |      1924\t |      2005\t |   385   |\n",
    "|     Schendel, Mira    | Female |      1919\t |      1988\t |    3    |\n",
    "|    Turner, William    |  Male  |      1775\t |      1851\t |  1861   |\n",
    "|      Warhol, Andy     |  Male  |      1928\t |      1987\t |   272   |\n"
   ],
   "metadata": {
    "id": "pZ6YahZgAZvB"
   }
  },
  {
   "cell_type": "markdown",
   "source": [
    "**_[TO DO]_**: Let's create a DataFrame named **TateDataset** with the information showed in the above table.\n",
    "\n",
    "**Note:** You can create arrays for each column and then build the DataFrame.\n",
    "Remember to import the required libraries!"
   ],
   "metadata": {
    "id": "TV1sgIOzAZvD"
   }
  },
  {
   "cell_type": "code",
   "execution_count": 85,
   "source": [
    "# @title Imports\r\n",
    "import numpy as np\r\n",
    "import pandas as pd\r\n"
   ],
   "outputs": [],
   "metadata": {
    "cellView": "form",
    "executionInfo": {
     "elapsed": 428,
     "status": "ok",
     "timestamp": 1603899361329,
     "user": {
      "displayName": "Sephora Madjiheurem",
      "photoUrl": "https://lh3.googleusercontent.com/a-/AOh14GgieP2Hh5x42748iuuSEnAl8BYCWGSmOzJ-ypgSaQ=s64",
      "userId": "05055971560005673839"
     },
     "user_tz": 0
    },
    "id": "NxkzhjIGAZvF"
   }
  },
  {
   "cell_type": "code",
   "execution_count": 86,
   "source": [
    "### TODO\r\n",
    "name = [\"Beuys, Joseph\", \"Constable, John\", \"Daniell, William\", \"Forbes, Elizabeth\", \"Flaxman, John\", \"Philips, Thomas\", \"Paolozzi, Sir Eduardo\", \"Schendel, Mira\", \"Turner, WIlliam\", \"Warhol, Andy\"]\r\n",
    "gender = [\"Male\", \"Male\", \"Male\", \"Female\", \"Male\", \"Male\", \"Male\", \"Female\", \"Male\", \"Male\"]\r\n",
    "year_Birth = [1921, 1776, 1769, 1859, 1755, 1770, 1924, 1919, 1775, 1928]\r\n",
    "year_Death = [1986, 1837, 1837, 1912, 1826, 1845, 2005, 1988, 1851, 1987]\r\n",
    "n_works = [588, 249, 612, 120, 287, 274, 385, 3, 1861, 272]\r\n",
    "d = {\"Name\": name, \"Gender\": gender, \"Year_Birth\": year_Birth, \"Year_Death\": year_Death, \"N_works\": n_works}\r\n",
    "tate_dataset = pd.DataFrame(d)"
   ],
   "outputs": [],
   "metadata": {
    "id": "FWsJFvTQB3hX"
   }
  },
  {
   "cell_type": "markdown",
   "source": [
    "## 1.2 - Data Acquisition (local file)\r\n",
    "\r\n",
    "Data acquisition is a process of loading and reading data from various sources. We will learn how to export and read data from a local file in different format using  **Pandas** package. \r\n",
    "\r\n",
    "A file format is a standardised way in which information is encoded to be stored in a file. Some examples of file formats are: CSV, XLSX, and PKL. \r\n",
    "\r\n",
    "Let's practice with some examples.\r\n",
    "\r\n",
    "### .CSV - Comma Separated Values\r\n",
    "\r\n",
    "CSV is one of the most popular spreadsheet file format. In this kind of file, data is stored in cells. Each cell is organized in rows and columns. A column in the spreadsheet file can have different types. \r\n",
    "\r\n",
    "Let us look at how to create a CSV file. We can export a DataFrame with the Pandas function `to_csv()`. The file will be saved in the same location of this notebook unless specified otherwise. We can name the file **TateData.csv**.\r\n",
    "\r\n",
    "**Note:** Once you have run the following cell, check the output file .\r\n"
   ],
   "metadata": {
    "id": "0P3DpT-VAZvO"
   }
  },
  {
   "cell_type": "code",
   "execution_count": 87,
   "source": [
    "tate_dataset.to_csv('tate_dataset.csv', index=False, header=True)"
   ],
   "outputs": [],
   "metadata": {
    "id": "DcFThhwRAZvP"
   }
  },
  {
   "cell_type": "markdown",
   "source": [
    "To pull in the csv file, we will use the Pandas function `read_csv()`. We will import the previous file in a new DataFrame.\n",
    "\n",
    "**Note:**  Depending on where you save your notebooks, you may need to modify the location below."
   ],
   "metadata": {
    "id": "54BZQJs8AZvU"
   }
  },
  {
   "cell_type": "code",
   "execution_count": 88,
   "source": [
    "tate_1 = pd.read_csv('tate_dataset.csv')\r\n",
    "tate_1"
   ],
   "outputs": [
    {
     "output_type": "execute_result",
     "data": {
      "text/html": [
       "<div>\n",
       "<style scoped>\n",
       "    .dataframe tbody tr th:only-of-type {\n",
       "        vertical-align: middle;\n",
       "    }\n",
       "\n",
       "    .dataframe tbody tr th {\n",
       "        vertical-align: top;\n",
       "    }\n",
       "\n",
       "    .dataframe thead th {\n",
       "        text-align: right;\n",
       "    }\n",
       "</style>\n",
       "<table border=\"1\" class=\"dataframe\">\n",
       "  <thead>\n",
       "    <tr style=\"text-align: right;\">\n",
       "      <th></th>\n",
       "      <th>Name</th>\n",
       "      <th>Gender</th>\n",
       "      <th>Year_Birth</th>\n",
       "      <th>Year_Death</th>\n",
       "      <th>N_works</th>\n",
       "    </tr>\n",
       "  </thead>\n",
       "  <tbody>\n",
       "    <tr>\n",
       "      <th>0</th>\n",
       "      <td>Beuys, Joseph</td>\n",
       "      <td>Male</td>\n",
       "      <td>1921</td>\n",
       "      <td>1986</td>\n",
       "      <td>588</td>\n",
       "    </tr>\n",
       "    <tr>\n",
       "      <th>1</th>\n",
       "      <td>Constable, John</td>\n",
       "      <td>Male</td>\n",
       "      <td>1776</td>\n",
       "      <td>1837</td>\n",
       "      <td>249</td>\n",
       "    </tr>\n",
       "    <tr>\n",
       "      <th>2</th>\n",
       "      <td>Daniell, William</td>\n",
       "      <td>Male</td>\n",
       "      <td>1769</td>\n",
       "      <td>1837</td>\n",
       "      <td>612</td>\n",
       "    </tr>\n",
       "    <tr>\n",
       "      <th>3</th>\n",
       "      <td>Forbes, Elizabeth</td>\n",
       "      <td>Female</td>\n",
       "      <td>1859</td>\n",
       "      <td>1912</td>\n",
       "      <td>120</td>\n",
       "    </tr>\n",
       "    <tr>\n",
       "      <th>4</th>\n",
       "      <td>Flaxman, John</td>\n",
       "      <td>Male</td>\n",
       "      <td>1755</td>\n",
       "      <td>1826</td>\n",
       "      <td>287</td>\n",
       "    </tr>\n",
       "    <tr>\n",
       "      <th>5</th>\n",
       "      <td>Philips, Thomas</td>\n",
       "      <td>Male</td>\n",
       "      <td>1770</td>\n",
       "      <td>1845</td>\n",
       "      <td>274</td>\n",
       "    </tr>\n",
       "    <tr>\n",
       "      <th>6</th>\n",
       "      <td>Paolozzi, Sir Eduardo</td>\n",
       "      <td>Male</td>\n",
       "      <td>1924</td>\n",
       "      <td>2005</td>\n",
       "      <td>385</td>\n",
       "    </tr>\n",
       "    <tr>\n",
       "      <th>7</th>\n",
       "      <td>Schendel, Mira</td>\n",
       "      <td>Female</td>\n",
       "      <td>1919</td>\n",
       "      <td>1988</td>\n",
       "      <td>3</td>\n",
       "    </tr>\n",
       "    <tr>\n",
       "      <th>8</th>\n",
       "      <td>Turner, WIlliam</td>\n",
       "      <td>Male</td>\n",
       "      <td>1775</td>\n",
       "      <td>1851</td>\n",
       "      <td>1861</td>\n",
       "    </tr>\n",
       "    <tr>\n",
       "      <th>9</th>\n",
       "      <td>Warhol, Andy</td>\n",
       "      <td>Male</td>\n",
       "      <td>1928</td>\n",
       "      <td>1987</td>\n",
       "      <td>272</td>\n",
       "    </tr>\n",
       "  </tbody>\n",
       "</table>\n",
       "</div>"
      ],
      "text/plain": [
       "                    Name  Gender  Year_Birth  Year_Death  N_works\n",
       "0          Beuys, Joseph    Male        1921        1986      588\n",
       "1        Constable, John    Male        1776        1837      249\n",
       "2       Daniell, William    Male        1769        1837      612\n",
       "3      Forbes, Elizabeth  Female        1859        1912      120\n",
       "4          Flaxman, John    Male        1755        1826      287\n",
       "5        Philips, Thomas    Male        1770        1845      274\n",
       "6  Paolozzi, Sir Eduardo    Male        1924        2005      385\n",
       "7         Schendel, Mira  Female        1919        1988        3\n",
       "8        Turner, WIlliam    Male        1775        1851     1861\n",
       "9           Warhol, Andy    Male        1928        1987      272"
      ]
     },
     "metadata": {},
     "execution_count": 88
    }
   ],
   "metadata": {
    "id": "PcO3epU5AZvV"
   }
  },
  {
   "cell_type": "markdown",
   "source": [
    "When we create the .CSV file, the only parameter we have used is **index**. \n",
    "\n",
    "**[TO DO]** What happens if we set the *index* parameter to True? And if you set also the parameter **header** to False?\n",
    "Try by yourself. "
   ],
   "metadata": {
    "id": "1CmXNd9jAZva"
   }
  },
  {
   "cell_type": "code",
   "execution_count": 89,
   "source": [
    "### TODO\r\n",
    "tate_dataset.to_csv('tate_dataset.csv', index=True, header=False)\r\n",
    "tate_2 = pd.read_csv('tate_dataset.csv')\r\n",
    "tate_2"
   ],
   "outputs": [
    {
     "output_type": "execute_result",
     "data": {
      "text/html": [
       "<div>\n",
       "<style scoped>\n",
       "    .dataframe tbody tr th:only-of-type {\n",
       "        vertical-align: middle;\n",
       "    }\n",
       "\n",
       "    .dataframe tbody tr th {\n",
       "        vertical-align: top;\n",
       "    }\n",
       "\n",
       "    .dataframe thead th {\n",
       "        text-align: right;\n",
       "    }\n",
       "</style>\n",
       "<table border=\"1\" class=\"dataframe\">\n",
       "  <thead>\n",
       "    <tr style=\"text-align: right;\">\n",
       "      <th></th>\n",
       "      <th>0</th>\n",
       "      <th>Beuys, Joseph</th>\n",
       "      <th>Male</th>\n",
       "      <th>1921</th>\n",
       "      <th>1986</th>\n",
       "      <th>588</th>\n",
       "    </tr>\n",
       "  </thead>\n",
       "  <tbody>\n",
       "    <tr>\n",
       "      <th>0</th>\n",
       "      <td>1</td>\n",
       "      <td>Constable, John</td>\n",
       "      <td>Male</td>\n",
       "      <td>1776</td>\n",
       "      <td>1837</td>\n",
       "      <td>249</td>\n",
       "    </tr>\n",
       "    <tr>\n",
       "      <th>1</th>\n",
       "      <td>2</td>\n",
       "      <td>Daniell, William</td>\n",
       "      <td>Male</td>\n",
       "      <td>1769</td>\n",
       "      <td>1837</td>\n",
       "      <td>612</td>\n",
       "    </tr>\n",
       "    <tr>\n",
       "      <th>2</th>\n",
       "      <td>3</td>\n",
       "      <td>Forbes, Elizabeth</td>\n",
       "      <td>Female</td>\n",
       "      <td>1859</td>\n",
       "      <td>1912</td>\n",
       "      <td>120</td>\n",
       "    </tr>\n",
       "    <tr>\n",
       "      <th>3</th>\n",
       "      <td>4</td>\n",
       "      <td>Flaxman, John</td>\n",
       "      <td>Male</td>\n",
       "      <td>1755</td>\n",
       "      <td>1826</td>\n",
       "      <td>287</td>\n",
       "    </tr>\n",
       "    <tr>\n",
       "      <th>4</th>\n",
       "      <td>5</td>\n",
       "      <td>Philips, Thomas</td>\n",
       "      <td>Male</td>\n",
       "      <td>1770</td>\n",
       "      <td>1845</td>\n",
       "      <td>274</td>\n",
       "    </tr>\n",
       "    <tr>\n",
       "      <th>5</th>\n",
       "      <td>6</td>\n",
       "      <td>Paolozzi, Sir Eduardo</td>\n",
       "      <td>Male</td>\n",
       "      <td>1924</td>\n",
       "      <td>2005</td>\n",
       "      <td>385</td>\n",
       "    </tr>\n",
       "    <tr>\n",
       "      <th>6</th>\n",
       "      <td>7</td>\n",
       "      <td>Schendel, Mira</td>\n",
       "      <td>Female</td>\n",
       "      <td>1919</td>\n",
       "      <td>1988</td>\n",
       "      <td>3</td>\n",
       "    </tr>\n",
       "    <tr>\n",
       "      <th>7</th>\n",
       "      <td>8</td>\n",
       "      <td>Turner, WIlliam</td>\n",
       "      <td>Male</td>\n",
       "      <td>1775</td>\n",
       "      <td>1851</td>\n",
       "      <td>1861</td>\n",
       "    </tr>\n",
       "    <tr>\n",
       "      <th>8</th>\n",
       "      <td>9</td>\n",
       "      <td>Warhol, Andy</td>\n",
       "      <td>Male</td>\n",
       "      <td>1928</td>\n",
       "      <td>1987</td>\n",
       "      <td>272</td>\n",
       "    </tr>\n",
       "  </tbody>\n",
       "</table>\n",
       "</div>"
      ],
      "text/plain": [
       "   0          Beuys, Joseph    Male  1921  1986   588\n",
       "0  1        Constable, John    Male  1776  1837   249\n",
       "1  2       Daniell, William    Male  1769  1837   612\n",
       "2  3      Forbes, Elizabeth  Female  1859  1912   120\n",
       "3  4          Flaxman, John    Male  1755  1826   287\n",
       "4  5        Philips, Thomas    Male  1770  1845   274\n",
       "5  6  Paolozzi, Sir Eduardo    Male  1924  2005   385\n",
       "6  7         Schendel, Mira  Female  1919  1988     3\n",
       "7  8        Turner, WIlliam    Male  1775  1851  1861\n",
       "8  9           Warhol, Andy    Male  1928  1987   272"
      ]
     },
     "metadata": {},
     "execution_count": 89
    }
   ],
   "metadata": {
    "id": "egR7HZLaAZvb"
   }
  },
  {
   "cell_type": "markdown",
   "source": [
    "Delete the csv file now that we are done using it."
   ],
   "metadata": {
    "id": "0tHt7lPFAZvf"
   }
  },
  {
   "cell_type": "markdown",
   "source": [
    "### pickle — Python object serialization\n",
    "\n",
    "This data format is Python-specific. This has the advantage that there are no restrictions imposed by external standards; however it means that non-Python programs may not be able to reconstruct pickled Python objects.\n",
    "\n"
   ],
   "metadata": {
    "id": "oQLf1Y_hAZvr"
   }
  },
  {
   "cell_type": "code",
   "execution_count": 90,
   "source": [
    "import pickle\r\n",
    "\r\n",
    "tate_dataset.to_pickle('tate_dataset.pkl')\r\n"
   ],
   "outputs": [],
   "metadata": {
    "id": "stKRPdBTAZvr"
   }
  },
  {
   "cell_type": "code",
   "execution_count": 91,
   "source": [
    "tate_2 = pd.read_pickle('tate_dataset.pkl')\r\n",
    "tate_2"
   ],
   "outputs": [
    {
     "output_type": "execute_result",
     "data": {
      "text/html": [
       "<div>\n",
       "<style scoped>\n",
       "    .dataframe tbody tr th:only-of-type {\n",
       "        vertical-align: middle;\n",
       "    }\n",
       "\n",
       "    .dataframe tbody tr th {\n",
       "        vertical-align: top;\n",
       "    }\n",
       "\n",
       "    .dataframe thead th {\n",
       "        text-align: right;\n",
       "    }\n",
       "</style>\n",
       "<table border=\"1\" class=\"dataframe\">\n",
       "  <thead>\n",
       "    <tr style=\"text-align: right;\">\n",
       "      <th></th>\n",
       "      <th>Name</th>\n",
       "      <th>Gender</th>\n",
       "      <th>Year_Birth</th>\n",
       "      <th>Year_Death</th>\n",
       "      <th>N_works</th>\n",
       "    </tr>\n",
       "  </thead>\n",
       "  <tbody>\n",
       "    <tr>\n",
       "      <th>0</th>\n",
       "      <td>Beuys, Joseph</td>\n",
       "      <td>Male</td>\n",
       "      <td>1921</td>\n",
       "      <td>1986</td>\n",
       "      <td>588</td>\n",
       "    </tr>\n",
       "    <tr>\n",
       "      <th>1</th>\n",
       "      <td>Constable, John</td>\n",
       "      <td>Male</td>\n",
       "      <td>1776</td>\n",
       "      <td>1837</td>\n",
       "      <td>249</td>\n",
       "    </tr>\n",
       "    <tr>\n",
       "      <th>2</th>\n",
       "      <td>Daniell, William</td>\n",
       "      <td>Male</td>\n",
       "      <td>1769</td>\n",
       "      <td>1837</td>\n",
       "      <td>612</td>\n",
       "    </tr>\n",
       "    <tr>\n",
       "      <th>3</th>\n",
       "      <td>Forbes, Elizabeth</td>\n",
       "      <td>Female</td>\n",
       "      <td>1859</td>\n",
       "      <td>1912</td>\n",
       "      <td>120</td>\n",
       "    </tr>\n",
       "    <tr>\n",
       "      <th>4</th>\n",
       "      <td>Flaxman, John</td>\n",
       "      <td>Male</td>\n",
       "      <td>1755</td>\n",
       "      <td>1826</td>\n",
       "      <td>287</td>\n",
       "    </tr>\n",
       "    <tr>\n",
       "      <th>5</th>\n",
       "      <td>Philips, Thomas</td>\n",
       "      <td>Male</td>\n",
       "      <td>1770</td>\n",
       "      <td>1845</td>\n",
       "      <td>274</td>\n",
       "    </tr>\n",
       "    <tr>\n",
       "      <th>6</th>\n",
       "      <td>Paolozzi, Sir Eduardo</td>\n",
       "      <td>Male</td>\n",
       "      <td>1924</td>\n",
       "      <td>2005</td>\n",
       "      <td>385</td>\n",
       "    </tr>\n",
       "    <tr>\n",
       "      <th>7</th>\n",
       "      <td>Schendel, Mira</td>\n",
       "      <td>Female</td>\n",
       "      <td>1919</td>\n",
       "      <td>1988</td>\n",
       "      <td>3</td>\n",
       "    </tr>\n",
       "    <tr>\n",
       "      <th>8</th>\n",
       "      <td>Turner, WIlliam</td>\n",
       "      <td>Male</td>\n",
       "      <td>1775</td>\n",
       "      <td>1851</td>\n",
       "      <td>1861</td>\n",
       "    </tr>\n",
       "    <tr>\n",
       "      <th>9</th>\n",
       "      <td>Warhol, Andy</td>\n",
       "      <td>Male</td>\n",
       "      <td>1928</td>\n",
       "      <td>1987</td>\n",
       "      <td>272</td>\n",
       "    </tr>\n",
       "  </tbody>\n",
       "</table>\n",
       "</div>"
      ],
      "text/plain": [
       "                    Name  Gender  Year_Birth  Year_Death  N_works\n",
       "0          Beuys, Joseph    Male        1921        1986      588\n",
       "1        Constable, John    Male        1776        1837      249\n",
       "2       Daniell, William    Male        1769        1837      612\n",
       "3      Forbes, Elizabeth  Female        1859        1912      120\n",
       "4          Flaxman, John    Male        1755        1826      287\n",
       "5        Philips, Thomas    Male        1770        1845      274\n",
       "6  Paolozzi, Sir Eduardo    Male        1924        2005      385\n",
       "7         Schendel, Mira  Female        1919        1988        3\n",
       "8        Turner, WIlliam    Male        1775        1851     1861\n",
       "9           Warhol, Andy    Male        1928        1987      272"
      ]
     },
     "metadata": {},
     "execution_count": 91
    }
   ],
   "metadata": {
    "id": "Rc7RsQeKAZvt"
   }
  },
  {
   "cell_type": "markdown",
   "source": [
    "## 1.3 - Look at the data\n",
    "\n",
    "Now we will simply have a look at the data and make sure it is clean. \n",
    "\n",
    "### Data type\n",
    "Let's check the data type of the imported variables and the original DataFrame."
   ],
   "metadata": {
    "id": "4vHSnaOQAZvv"
   }
  },
  {
   "cell_type": "code",
   "execution_count": 92,
   "source": [
    "# Check data type of the columns for Tate_1\r\n",
    "tate_1.dtypes"
   ],
   "outputs": [
    {
     "output_type": "execute_result",
     "data": {
      "text/plain": [
       "Name          object\n",
       "Gender        object\n",
       "Year_Birth     int64\n",
       "Year_Death     int64\n",
       "N_works        int64\n",
       "dtype: object"
      ]
     },
     "metadata": {},
     "execution_count": 92
    }
   ],
   "metadata": {
    "id": "AV3eoT35AZvw"
   }
  },
  {
   "cell_type": "code",
   "execution_count": 93,
   "source": [
    "# Check data type of the columns for TateDataset\r\n",
    "tate_dataset.dtypes"
   ],
   "outputs": [
    {
     "output_type": "execute_result",
     "data": {
      "text/plain": [
       "Name          object\n",
       "Gender        object\n",
       "Year_Birth     int64\n",
       "Year_Death     int64\n",
       "N_works        int64\n",
       "dtype: object"
      ]
     },
     "metadata": {},
     "execution_count": 93
    }
   ],
   "metadata": {
    "id": "ACysmIDSAZvy"
   }
  },
  {
   "cell_type": "markdown",
   "source": [
    "We can also display the values of a single column and check their data type as follow:"
   ],
   "metadata": {
    "id": "T3q0dEk0AZv0"
   }
  },
  {
   "cell_type": "code",
   "execution_count": 94,
   "source": [
    "tate_dataset['Gender']"
   ],
   "outputs": [
    {
     "output_type": "execute_result",
     "data": {
      "text/plain": [
       "0      Male\n",
       "1      Male\n",
       "2      Male\n",
       "3    Female\n",
       "4      Male\n",
       "5      Male\n",
       "6      Male\n",
       "7    Female\n",
       "8      Male\n",
       "9      Male\n",
       "Name: Gender, dtype: object"
      ]
     },
     "metadata": {},
     "execution_count": 94
    }
   ],
   "metadata": {
    "id": "zfMt0x2lAZv0"
   }
  },
  {
   "cell_type": "markdown",
   "source": [
    "# Task 2: Application Programming Interfaces (APIs)"
   ],
   "metadata": {
    "id": "hympM9yTEuud"
   }
  },
  {
   "cell_type": "markdown",
   "source": [
    "## 2.1 - Downloading climate data from the Internet\n",
    "\n",
    "We will now explore real world data, namely a dataset of climate information of 5 cities in Denmark between 1980-2018. The original raw-data was originally obtained from [National Climatic Data Center (NCDC)](https://www7.ncdc.noaa.gov/CDO/cdoselect.cmd).\n",
    "\n",
    "In particular, the selected cities in Denmark are:\n",
    "- Aalborg, \n",
    "- Aarhus, \n",
    "- Esbjerg, \n",
    "- Odense. \n",
    "- Roskilde\n",
    "\n",
    "In the following, we will download the dataset using an API instead of loading a local source file.\n",
    "\n",
    "### What is an API? \n",
    "Application Programming Interface (API) is a communication protocol between the user and the server (i.e., web server) that enables transmittion of data. The user making a request to an API server can download the desidered resources. \n",
    "\n",
    "### How to make a request in python?\n",
    "There are many different way to request data. \n",
    "In the following, we will use the package **urllib** that collects several modules for working with URLs.\n",
    "\n",
    "In particular, [urlib.request](https://docs.python.org/3/library/urllib.request.html#module-urllib.request) is a module for opening and reading URLs.\n"
   ],
   "metadata": {
    "id": "vOGrvILtFv0K",
    "tags": []
   }
  },
  {
   "cell_type": "markdown",
   "source": [
    "### - Download climate data\r\n",
    "\r\n",
    "\r\n",
    "The following functions allow to download and store the dataset in a specific folder.\r\n",
    "\r\n",
    "How to use:\r\n",
    "\r\n",
    "- Set the source (i.e., URL) of the desidered dataset in `data_url`.\r\n",
    "- Set the `data_dir` variable with the local directory where to store the data.\r\n",
    "- Call `download_and_extract()` to download the dataset if it is not already located in the given data_dir.\r\n",
    "- Load the data in the interactive Python notebook so ic can be used in your scripts (you can use `load_original_data()`)."
   ],
   "metadata": {
    "id": "DiwhudMrKQUP"
   }
  },
  {
   "cell_type": "code",
   "execution_count": 95,
   "source": [
    "#@title Functions to download data \r\n",
    "########################################################################\r\n",
    "#\r\n",
    "# This file is a partially modified version of one of the TensorFlow Tutorials available at:\r\n",
    "#\r\n",
    "# https://github.com/Hvass-Labs/TensorFlow-Tutorials\r\n",
    "#\r\n",
    "# Published under the MIT License. See the file LICENSE for details.\r\n",
    "#\r\n",
    "# Copyright 2018 by Magnus Erik Hvass Pedersen\r\n",
    "#\r\n",
    "########################################################################\r\n",
    "\r\n",
    "import sys\r\n",
    "import os\r\n",
    "import urllib.request\r\n",
    "import tarfile\r\n",
    "import zipfile\r\n",
    "\r\n",
    "\r\n",
    "\r\n",
    "def _print_download_progress(count, block_size, total_size):\r\n",
    "    \"\"\"\r\n",
    "    Function used for printing the download progress.\r\n",
    "    Used as a call-back function in maybe_download_and_extract().\r\n",
    "    \"\"\"\r\n",
    "\r\n",
    "    # Percentage completion.\r\n",
    "    pct_complete = float(count * block_size) / total_size\r\n",
    "\r\n",
    "    # Limit it because rounding errors may cause it to exceed 100%.\r\n",
    "    pct_complete = min(1.0, pct_complete)\r\n",
    "\r\n",
    "    # Status-message. Note the \\r which means the line should overwrite itself.\r\n",
    "    msg = \"\\r- Download progress: {0:.1%}\".format(pct_complete)\r\n",
    "\r\n",
    "    # Print it.\r\n",
    "    sys.stdout.write(msg)\r\n",
    "    sys.stdout.flush()\r\n",
    "\r\n",
    "\r\n",
    "def download(base_url, filename, download_dir):\r\n",
    "    \"\"\"\r\n",
    "    Download the given file if it does not already exist in the download_dir.\r\n",
    "    :param base_url: The internet URL without the filename.\r\n",
    "    :param filename: The filename that will be added to the base_url.\r\n",
    "    :param download_dir: Local directory for storing the file.\r\n",
    "    \"\"\"\r\n",
    "\r\n",
    "    # Path for local file.\r\n",
    "    save_path = os.path.join(download_dir, filename)\r\n",
    "\r\n",
    "    # Check if the file already exists, otherwise we need to download it now.\r\n",
    "    if not os.path.exists(save_path):\r\n",
    "        # Check if the download directory exists, otherwise create it.\r\n",
    "        if not os.path.exists(download_dir):\r\n",
    "            os.makedirs(download_dir)\r\n",
    "\r\n",
    "        print(\"Downloading\", filename, \"...\")\r\n",
    "\r\n",
    "        # Download the file from the internet.\r\n",
    "        url = base_url + filename\r\n",
    "        file_path, _ = urllib.request.urlretrieve(url=url,\r\n",
    "                                                  filename=save_path,\r\n",
    "                                                  reporthook=_print_download_progress)\r\n",
    "\r\n",
    "        print(\" Done!\")\r\n",
    "\r\n",
    "\r\n",
    "def download_and_extract(url, download_dir):\r\n",
    "    \"\"\"\r\n",
    "    Download and extract the data if it doesn't already exist.\r\n",
    "    Assumes the url is a tar-ball file.\r\n",
    "    :param url:\r\n",
    "        Internet URL for the tar-file to download.\r\n",
    "    :param download_dir:\r\n",
    "        Directory where the downloaded file is saved.\r\n",
    "    \"\"\"\r\n",
    "\r\n",
    "    # Filename for saving the file downloaded from the internet.\r\n",
    "    # Use the filename from the URL and add it to the download_dir.\r\n",
    "    filename = url.split('/')[-1]\r\n",
    "    file_path = os.path.join(download_dir, filename)\r\n",
    "\r\n",
    "    # Check if the file already exists.\r\n",
    "    # If it exists then we assume it has also been extracted,\r\n",
    "    # otherwise we need to download and extract it now.\r\n",
    "    if not os.path.exists(file_path):\r\n",
    "        # Check if the download directory exists, otherwise create it.\r\n",
    "        if not os.path.exists(download_dir):\r\n",
    "            os.makedirs(download_dir)\r\n",
    "\r\n",
    "        # Download the file from the internet.\r\n",
    "        file_path, _ = urllib.request.urlretrieve(url=url,\r\n",
    "                                                  filename=file_path,\r\n",
    "                                                  reporthook=_print_download_progress)\r\n",
    "\r\n",
    "        print()\r\n",
    "        print(\"Download finished. Extracting files.\")\r\n",
    "\r\n",
    "        if file_path.endswith(\".zip\"):\r\n",
    "            # Unpack the zip-file.\r\n",
    "            zipfile.ZipFile(file=file_path, mode=\"r\").extractall(download_dir)\r\n",
    "        elif file_path.endswith((\".tar.gz\", \".tgz\")):\r\n",
    "            # Unpack the tar-ball.\r\n",
    "            tarfile.open(name=file_path, mode=\"r:gz\").extractall(download_dir)\r\n",
    "\r\n",
    "        print(\"Done.\")\r\n",
    "    else:\r\n",
    "        print(\"Data has apparently already been downloaded and unpacked.\")\r\n",
    "        "
   ],
   "outputs": [],
   "metadata": {
    "cellView": "form",
    "id": "DjVqxHOLE6I4"
   }
  },
  {
   "cell_type": "markdown",
   "source": [
    "First, we define where we want to download the dataset (you are free to choose another directory) and the URL of the dataset to be downloaded."
   ],
   "metadata": {
    "id": "jhAOVRKTclRR"
   }
  },
  {
   "cell_type": "code",
   "execution_count": 96,
   "source": [
    "# Location of the dataset on the internet.\r\n",
    "data_url = \"https://github.com/Hvass-Labs/weather-denmark/raw/master/weather-denmark.tar.gz\"\r\n",
    "\r\n",
    "# Local directory where you want to download and save the dataset.\r\n",
    "data_dir = \"weather-data/\""
   ],
   "outputs": [],
   "metadata": {
    "id": "mPl5lGC_cjRa"
   }
  },
  {
   "cell_type": "markdown",
   "source": [
    "Now, we can download the dataset into the chosen local directory"
   ],
   "metadata": {
    "id": "_fUv_1U7AGIS"
   }
  },
  {
   "cell_type": "code",
   "execution_count": 97,
   "source": [
    "download_and_extract(url=data_url, download_dir=data_dir)"
   ],
   "outputs": [
    {
     "output_type": "stream",
     "name": "stdout",
     "text": [
      "Data has apparently already been downloaded and unpacked.\n"
     ]
    }
   ],
   "metadata": {
    "id": "6P4iL6WfAGIT"
   }
  },
  {
   "cell_type": "markdown",
   "source": [
    "**[TO DO]:** Check the local folder? In which format the dataset has been downloaded?\n",
    "\n",
    "**[TO DO]:** Select a format and load the dataset ."
   ],
   "metadata": {
    "id": "sLC9mO_RAGIY"
   }
  },
  {
   "cell_type": "code",
   "execution_count": 98,
   "source": [
    "### TODO\r\n",
    "import os\r\n",
    "path = os.path.join(data_dir, \"weather-denmark.csv\")"
   ],
   "outputs": [],
   "metadata": {
    "id": "59A_u_4CAGIY"
   }
  },
  {
   "cell_type": "code",
   "execution_count": null,
   "source": [
    "### TODO\r\n",
    "df = pd.read_csv(path)"
   ],
   "outputs": [],
   "metadata": {
    "id": "36clsIOhq_CR"
   }
  },
  {
   "cell_type": "markdown",
   "source": [
    "**More advanced solution for loading dataset**:\n",
    "\n",
    "In this case, the dataset was downloaded in two different formats. \n",
    "We can define the path where the files have been stored as follows:\n",
    "- **path_original_data_pickle( )** is the location of the original data in pickle format\n",
    "- **path_original_data_csv( )** is the location the original data in .csv"
   ],
   "metadata": {
    "id": "MN4_qGC4AGIc"
   }
  },
  {
   "cell_type": "code",
   "execution_count": null,
   "source": [
    "def path_original_data_pickle():\r\n",
    "    return os.path.join(data_dir, \"weather-denmark.pkl\")\r\n",
    "\r\n",
    "def path_original_data_csv():\r\n",
    "    return os.path.join(data_dir, \"weather-denmark.csv\")"
   ],
   "outputs": [],
   "metadata": {
    "id": "NO8jevNRAGIc"
   }
  },
  {
   "cell_type": "markdown",
   "source": [
    "Now we can load the data in pickle format through the following function:"
   ],
   "metadata": {
    "id": "KoNQaCyAAGIg"
   }
  },
  {
   "cell_type": "code",
   "execution_count": null,
   "source": [
    "def load_original_data():\r\n",
    "    return pd.read_pickle(path_original_data_pickle())"
   ],
   "outputs": [],
   "metadata": {
    "id": "JHdwG7c6AGIh"
   }
  },
  {
   "cell_type": "code",
   "execution_count": null,
   "source": [
    "df = load_original_data()\r\n",
    "df"
   ],
   "outputs": [
    {
     "output_type": "execute_result",
     "data": {
      "text/html": [
       "<div>\n",
       "<style scoped>\n",
       "    .dataframe tbody tr th:only-of-type {\n",
       "        vertical-align: middle;\n",
       "    }\n",
       "\n",
       "    .dataframe tbody tr th {\n",
       "        vertical-align: top;\n",
       "    }\n",
       "\n",
       "    .dataframe thead th {\n",
       "        text-align: right;\n",
       "    }\n",
       "</style>\n",
       "<table border=\"1\" class=\"dataframe\">\n",
       "  <thead>\n",
       "    <tr style=\"text-align: right;\">\n",
       "      <th></th>\n",
       "      <th></th>\n",
       "      <th>Temp</th>\n",
       "      <th>Pressure</th>\n",
       "      <th>WindSpeed</th>\n",
       "      <th>WindDir</th>\n",
       "    </tr>\n",
       "    <tr>\n",
       "      <th>City</th>\n",
       "      <th>DateTime</th>\n",
       "      <th></th>\n",
       "      <th></th>\n",
       "      <th></th>\n",
       "      <th></th>\n",
       "    </tr>\n",
       "  </thead>\n",
       "  <tbody>\n",
       "    <tr>\n",
       "      <th rowspan=\"5\" valign=\"top\">Aalborg</th>\n",
       "      <th>1980-03-01 00:00:00</th>\n",
       "      <td>5.0</td>\n",
       "      <td>1008.1</td>\n",
       "      <td>11.3</td>\n",
       "      <td>290.0</td>\n",
       "    </tr>\n",
       "    <tr>\n",
       "      <th>1980-03-01 00:20:00</th>\n",
       "      <td>4.0</td>\n",
       "      <td>NaN</td>\n",
       "      <td>9.2</td>\n",
       "      <td>270.0</td>\n",
       "    </tr>\n",
       "    <tr>\n",
       "      <th>1980-03-01 00:50:00</th>\n",
       "      <td>4.0</td>\n",
       "      <td>NaN</td>\n",
       "      <td>9.2</td>\n",
       "      <td>280.0</td>\n",
       "    </tr>\n",
       "    <tr>\n",
       "      <th>1980-03-01 01:20:00</th>\n",
       "      <td>4.0</td>\n",
       "      <td>NaN</td>\n",
       "      <td>9.2</td>\n",
       "      <td>280.0</td>\n",
       "    </tr>\n",
       "    <tr>\n",
       "      <th>1980-03-01 01:50:00</th>\n",
       "      <td>4.0</td>\n",
       "      <td>NaN</td>\n",
       "      <td>8.7</td>\n",
       "      <td>270.0</td>\n",
       "    </tr>\n",
       "    <tr>\n",
       "      <th>...</th>\n",
       "      <th>...</th>\n",
       "      <td>...</td>\n",
       "      <td>...</td>\n",
       "      <td>...</td>\n",
       "      <td>...</td>\n",
       "    </tr>\n",
       "    <tr>\n",
       "      <th rowspan=\"5\" valign=\"top\">Roskilde</th>\n",
       "      <th>2018-03-01 22:20:00</th>\n",
       "      <td>-5.0</td>\n",
       "      <td>NaN</td>\n",
       "      <td>5.1</td>\n",
       "      <td>70.0</td>\n",
       "    </tr>\n",
       "    <tr>\n",
       "      <th>2018-03-01 22:50:00</th>\n",
       "      <td>-5.0</td>\n",
       "      <td>NaN</td>\n",
       "      <td>4.1</td>\n",
       "      <td>70.0</td>\n",
       "    </tr>\n",
       "    <tr>\n",
       "      <th>2018-03-01 23:00:00</th>\n",
       "      <td>-5.3</td>\n",
       "      <td>1018.6</td>\n",
       "      <td>4.1</td>\n",
       "      <td>60.0</td>\n",
       "    </tr>\n",
       "    <tr>\n",
       "      <th>2018-03-01 23:20:00</th>\n",
       "      <td>-5.0</td>\n",
       "      <td>NaN</td>\n",
       "      <td>3.6</td>\n",
       "      <td>60.0</td>\n",
       "    </tr>\n",
       "    <tr>\n",
       "      <th>2018-03-01 23:50:00</th>\n",
       "      <td>-5.0</td>\n",
       "      <td>NaN</td>\n",
       "      <td>3.6</td>\n",
       "      <td>60.0</td>\n",
       "    </tr>\n",
       "  </tbody>\n",
       "</table>\n",
       "<p>2918150 rows × 4 columns</p>\n",
       "</div>"
      ],
      "text/plain": [
       "                              Temp  Pressure  WindSpeed  WindDir\n",
       "City     DateTime                                               \n",
       "Aalborg  1980-03-01 00:00:00   5.0    1008.1       11.3    290.0\n",
       "         1980-03-01 00:20:00   4.0       NaN        9.2    270.0\n",
       "         1980-03-01 00:50:00   4.0       NaN        9.2    280.0\n",
       "         1980-03-01 01:20:00   4.0       NaN        9.2    280.0\n",
       "         1980-03-01 01:50:00   4.0       NaN        8.7    270.0\n",
       "...                            ...       ...        ...      ...\n",
       "Roskilde 2018-03-01 22:20:00  -5.0       NaN        5.1     70.0\n",
       "         2018-03-01 22:50:00  -5.0       NaN        4.1     70.0\n",
       "         2018-03-01 23:00:00  -5.3    1018.6        4.1     60.0\n",
       "         2018-03-01 23:20:00  -5.0       NaN        3.6     60.0\n",
       "         2018-03-01 23:50:00  -5.0       NaN        3.6     60.0\n",
       "\n",
       "[2918150 rows x 4 columns]"
      ]
     },
     "metadata": {},
     "execution_count": 23
    }
   ],
   "metadata": {
    "id": "0-XPffh3AGIj"
   }
  },
  {
   "cell_type": "markdown",
   "source": [
    "### - Undestanding the data\n",
    "\n",
    "**_[TO DO]_**: Have a quick overview of the downloaded dataset. \n",
    "In particular, focus on:\n",
    "\n",
    "- Understanding the variables contained in the dataframe\n",
    "- Check the DateTime for 2 cities"
   ],
   "metadata": {
    "id": "DMCJQr_SAGIm"
   }
  },
  {
   "cell_type": "code",
   "execution_count": null,
   "source": [
    "### TODO\r\n",
    "df.xs('Aalborg')"
   ],
   "outputs": [],
   "metadata": {
    "id": "-_dXNZFqd6rk"
   }
  },
  {
   "cell_type": "markdown",
   "source": [
    "## 2.2 - Interacting with a server to query a subset of some data bank\n",
    "\n",
    "We will now learn how to query a data bank to retrieve only the relevant proportion data for a task. We will be using the World Bank Data API to access World's renewable energy consumtpion data. \n",
    "\n",
    "\n"
   ],
   "metadata": {
    "id": "ZYcAldYgeOmq"
   }
  },
  {
   "cell_type": "markdown",
   "source": [
    "You first need to install the World Bank API. In a terminal, run the following command:\n",
    "\n",
    "``>> pip install wbdata``\n",
    "\n"
   ],
   "metadata": {
    "id": "Pz0G-PnEllEE"
   }
  },
  {
   "cell_type": "code",
   "execution_count": null,
   "source": [
    "%pip install wbdata"
   ],
   "outputs": [
    {
     "output_type": "stream",
     "name": "stdout",
     "text": [
      "Defaulting to user installation because normal site-packages is not writeable\n",
      "Collecting wbdata\n",
      "  Downloading wbdata-0.3.0-py3-none-any.whl (14 kB)\n",
      "Requirement already satisfied: appdirs<2.0,>=1.4 in c:\\users\\tkate\\appdata\\roaming\\python\\python38\\site-packages (from wbdata) (1.4.4)\n",
      "Requirement already satisfied: decorator>=4.0 in c:\\users\\tkate\\appdata\\roaming\\python\\python38\\site-packages (from wbdata) (5.1.0)\n",
      "Collecting tabulate>=0.8.5\n",
      "  Downloading tabulate-0.8.9-py3-none-any.whl (25 kB)\n",
      "Collecting requests>=2.0\n",
      "  Using cached requests-2.26.0-py2.py3-none-any.whl (62 kB)\n",
      "Requirement already satisfied: urllib3<1.27,>=1.21.1 in c:\\users\\tkate\\appdata\\roaming\\python\\python38\\site-packages (from requests>=2.0->wbdata) (1.25.11)\n",
      "Requirement already satisfied: idna<4,>=2.5 in c:\\users\\tkate\\appdata\\roaming\\python\\python38\\site-packages (from requests>=2.0->wbdata) (2.10)\n",
      "Collecting charset-normalizer~=2.0.0\n",
      "  Downloading charset_normalizer-2.0.7-py3-none-any.whl (38 kB)\n",
      "Requirement already satisfied: certifi>=2017.4.17 in c:\\program files\\python38\\lib\\site-packages (from requests>=2.0->wbdata) (2020.11.8)\n",
      "Installing collected packages: charset-normalizer, tabulate, requests, wbdata\n",
      "Successfully installed charset-normalizer-2.0.7 requests-2.26.0 tabulate-0.8.9 wbdata-0.3.0\n",
      "Note: you may need to restart the kernel to use updated packages.\n"
     ]
    },
    {
     "output_type": "stream",
     "name": "stderr",
     "text": [
      "ERROR: pip's dependency resolver does not currently take into account all the packages that are installed. This behaviour is the source of the following dependency conflicts.\n",
      "tensorflow 2.3.1 requires wrapt>=1.11.1, which is not installed.\n",
      "tensorflow 2.3.1 requires numpy<1.19.0,>=1.16.0, but you have numpy 1.21.2 which is incompatible.\n",
      "WARNING: You are using pip version 21.0; however, version 21.3 is available.\n",
      "You should consider upgrading via the 'C:\\Program Files\\Python38\\python.exe -m pip install --upgrade pip' command.\n"
     ]
    }
   ],
   "metadata": {
    "colab": {
     "base_uri": "https://localhost:8080/",
     "height": 230
    },
    "executionInfo": {
     "elapsed": 5409,
     "status": "ok",
     "timestamp": 1603899607656,
     "user": {
      "displayName": "Sephora Madjiheurem",
      "photoUrl": "https://lh3.googleusercontent.com/a-/AOh14GgieP2Hh5x42748iuuSEnAl8BYCWGSmOzJ-ypgSaQ=s64",
      "userId": "05055971560005673839"
     },
     "user_tz": 0
    },
    "id": "pKP6WMKA3YTH",
    "outputId": "b822a83a-4f1f-4ef3-88e6-ada5dc8e99a5"
   }
  },
  {
   "cell_type": "code",
   "execution_count": null,
   "source": [
    "#@title Imports\r\n",
    "import wbdata as wb\r\n",
    "import datetime"
   ],
   "outputs": [],
   "metadata": {
    "cellView": "form",
    "executionInfo": {
     "elapsed": 496,
     "status": "ok",
     "timestamp": 1603899609741,
     "user": {
      "displayName": "Sephora Madjiheurem",
      "photoUrl": "https://lh3.googleusercontent.com/a-/AOh14GgieP2Hh5x42748iuuSEnAl8BYCWGSmOzJ-ypgSaQ=s64",
      "userId": "05055971560005673839"
     },
     "user_tz": 0
    },
    "id": "TpOO5F8YkxyR"
   }
  },
  {
   "cell_type": "markdown",
   "source": [
    "### - Query the World Bank\n",
    "\n",
    "* **_[TO DO]_**: Use the wbdata to retrieve renewable energy consumption data of all countries in 2015.\n",
    "\n",
    "Hint: [wbdata documentation](https://wbdata.readthedocs.io/en/stable/)"
   ],
   "metadata": {
    "id": "7OJzq_rWmGa-"
   }
  },
  {
   "cell_type": "code",
   "execution_count": 100,
   "source": [
    "### TODO\r\n",
    "import datetime\r\n",
    "data_date = datetime.datetime(2015, 1, 1), datetime.datetime(2015, 12, 31)\r\n",
    "df = wb.get_dataframe({\"3.1_RE.CONSUMPTION\":\"Renewable Energy Consumption\"}, data_date=data_date)"
   ],
   "outputs": [],
   "metadata": {
    "id": "RXwfBzicmFO3"
   }
  },
  {
   "cell_type": "markdown",
   "source": [
    "### - Undestanding the data\n",
    "\n",
    "* **_[TO DO]_**: Display different data points "
   ],
   "metadata": {
    "id": "0FB_UE-0nSeX"
   }
  },
  {
   "cell_type": "code",
   "execution_count": 101,
   "source": [
    "### TODO\r\n",
    "df[\"Renewable Energy Consumption\"][30:45]"
   ],
   "outputs": [
    {
     "output_type": "execute_result",
     "data": {
      "text/plain": [
       "country\n",
       "Albania                 31555.450000\n",
       "Algeria                   833.669800\n",
       "American Samoa              4.968064\n",
       "Andorra                  1642.520000\n",
       "Angola                 243771.100000\n",
       "Anguilla                    1.827000\n",
       "Antigua and Barbuda         0.000000\n",
       "Argentina              239470.600000\n",
       "Armenia                 13445.590000\n",
       "Aruba                     437.772000\n",
       "Australia              296838.100000\n",
       "Austria                362355.800000\n",
       "Azerbaijan               7681.284000\n",
       "Bahamas, The              310.333000\n",
       "Bahrain                     0.000000\n",
       "Name: Renewable Energy Consumption, dtype: float64"
      ]
     },
     "metadata": {},
     "execution_count": 101
    }
   ],
   "metadata": {
    "id": "TLsp11GKn8Ai"
   }
  },
  {
   "cell_type": "markdown",
   "source": [
    "### - Exporting the data \n",
    "\n",
    "* **_[TO DO]_**: Save the retrieved renewable energy consumption data of all countries in 2015 in one .xlsx file\n",
    "* **_[TO DO]_**: Save the renewable energy consumption data from 2006 to 2016 for each European country in individual .csv files (one per country)"
   ],
   "metadata": {
    "id": "o52Lnoq5olC9"
   }
  },
  {
   "cell_type": "code",
   "execution_count": null,
   "source": [
    "os.makedirs('./1-DATA-ACQUISITION-TOBYOBY12/wbData')"
   ],
   "outputs": [],
   "metadata": {}
  },
  {
   "cell_type": "code",
   "execution_count": 103,
   "source": [
    "### TODO\r\n",
    "euro_countries = [\"ALB\", \"AND\", \"AUT\", \"BLR\", \"BEL\", \"BIH\", \"BGR\", \"HRV\", \"CZE\", \"DNK\", \"EST\", \"FRO\", \"FIN\", \"FRA\", \r\n",
    "\"DEU\", \"GIB\", \"GRC\", \"VAT\", \"HUN\", \"ISL\", \"IRL\", \"IMN\", \"ITA\", \"LVA\", \"LIE\", \"LTU\", \"LUX\", \"MLT\", \"MDA\", \"MCO\", \"MNE\", \"NLD\", \r\n",
    "\"MKD\", \"NOR\", \"POL\", \"PRT\", \"ROU\", \"RUS\", \"SMR\", \"SRB\", \"SVK\", \"SVN\", \"ESP\", \"SWE\", \"CHE\", \"UKR\", \"GBR\"]\r\n",
    "data_date = datetime.datetime(2006, 1, 1), datetime.datetime(2016, 12, 31)\r\n",
    "\r\n",
    "for country in euro_countries:\r\n",
    "    try:\r\n",
    "        df = wb.get_dataframe({\"3.1_RE.CONSUMPTION\":\"Renewable Energy Consumption\"}, data_date=data_date, country=country)\r\n",
    "        df.to_csv(f'./wbData/{country}.csv')\r\n",
    "    except RuntimeError:\r\n",
    "        pass"
   ],
   "outputs": [],
   "metadata": {
    "id": "-k6RXRXBpduC"
   }
  }
 ],
 "metadata": {
  "colab": {
   "collapsed_sections": [],
   "name": "LAB1.ipynb",
   "provenance": [
    {
     "file_id": "1HXjyjuj11ovY200lbVrY4ksJrv4eEphn",
     "timestamp": 1603281631972
    }
   ]
  },
  "kernelspec": {
   "name": "python3",
   "display_name": "Python 3.8.0 64-bit"
  },
  "language_info": {
   "codemirror_mode": {
    "name": "ipython",
    "version": 3
   },
   "file_extension": ".py",
   "mimetype": "text/x-python",
   "name": "python",
   "nbconvert_exporter": "python",
   "pygments_lexer": "ipython3",
   "version": "3.8.0"
  },
  "interpreter": {
   "hash": "1baa965d5efe3ac65b79dfc60c0d706280b1da80fedb7760faf2759126c4f253"
  }
 },
 "nbformat": 4,
 "nbformat_minor": 4
}